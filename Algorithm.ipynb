{
  "nbformat": 4,
  "nbformat_minor": 0,
  "metadata": {
    "colab": {
      "provenance": []
    },
    "kernelspec": {
      "name": "python3",
      "display_name": "Python 3"
    },
    "language_info": {
      "name": "python"
    }
  },
  "cells": [
    {
      "cell_type": "markdown",
      "source": [
        "### Addis Ababa University\n",
        "### Addis Ababa Institute of Technology\n",
        "### Department of School of Information Technology and Engineering\n",
        "### Artificial Intelligence: Principles and Techniques\n",
        "Course Project – Due: Friday 03 March 2023"
      ],
      "metadata": {
        "id": "E734wPdiDpYT"
      }
    },
    {
      "cell_type": "markdown",
      "source": [
        "1.1 Convert Figure 1, a State space graph for traveling Ethiopia search problem, into some sort of manageable data structure such as, stack or queue."
      ],
      "metadata": {
        "id": "E-hJF6yOksB1"
      }
    },
    {
      "cell_type": "code",
      "source": [
        "from collections import deque\n",
        "import heapq\n",
        "import unittest\n",
        "from scipy import stats"
      ],
      "metadata": {
        "id": "SOpsR_AYIFaX"
      },
      "execution_count": null,
      "outputs": []
    },
    {
      "cell_type": "code",
      "execution_count": null,
      "metadata": {
        "id": "Z5KhZ-wcjZNW"
      },
      "outputs": [],
      "source": [
        "ethiopia = {\n",
        "    \"Adama\" :[\"Addis Abeba\", \"Assella\", \"Batu\", \"Matahara\"],\n",
        "    \"Addis Abeba\" :[\"Adama\", \"Ambo\", \"Debre Birhan\"],\n",
        "    \"Adigrate\" :[\"Adwa\", \"Mekele\"],\n",
        "    \"Adwa\" :[\"Adigrate\", \"Axum\", \"Mekele\"],\n",
        "    \"Alamata\" :[\"Mekele\", \"Samara\", \"Sekota\", \"Woldia\"],\n",
        "    \"Ambo\" :[\"Nekemete\", \"Wolkite\"],\n",
        "    \"Arba Minch\" :[\"Basketo\", \"Konso\", \"Wolita sodo\"],\n",
        "    \"Assasa\" :[\"Assella\", \"Dodolla\"],\n",
        "    \"Assella\" :[\"Adama\", \"Assasa\"],\n",
        "    \"Assosa\" :[\"Dembi Dollo\", \"Metekel\"],\n",
        "    \"Awash\" :[\"Chiro\", \"Gabi Rasu\", \"Matahara\"],\n",
        "    \"Axum\" :[\"Adwa\", \"Shire\"],\n",
        "    \"Azezo\" :[\"Bahirdar\", \"Gonder\", \"Metema\"],\n",
        "    \"Babile\" :[\"Harar\", \"Jigjiga\"],\n",
        "    \"Bahirdar\" :[\"Azezo\", \"Debre Tabor\", \"Finote Selam\", \"Injibara\", \"Metekel\"],\n",
        "    \"Bale\":[\"Dodolla\", \"Goba\", \"Liben\", \"Sof Oumer\"],\n",
        "    \"Basketo\" :[\"Arba Minch\", \"Benchi Maji\", \"Dawro\", \"Mezan Teferi\"],\n",
        "    \"Batu\" :[\"Adama\", \"Butajira\", \"Shashemene\"],\n",
        "    \"Bedelle\" :[\"Gore\", \"Jimma\", \"Nekemete\"],\n",
        "    \"Benchi Maji\" :[\"Basketo\"],\n",
        "    \"Bonga\" :[\"Dawro\", \"Jimma\", \"Mezan Teferi\", \"Tepi\"],\n",
        "    \"Bule hora\" :[\"Dilla\", \"Yabello\"],\n",
        "    \"Butajira\" :[\"Batu\", \"Worabe\"],\n",
        "    \"Chiro\" :[\"Awash\", \"Dire Dawa\"],\n",
        "    \"Dawro\" :[\"Basketo\", \"Bonga\", \"Wolita sodo\"],\n",
        "    \"Debarke\" :[\"Gonder\", \"Shire\"],\n",
        "    \"Debre Birhan\" :[\"Addis Abeba\", \"Debre Sina\"],\n",
        "    \"Debre Markos\" :[\"Debre Sina\", \"Finote Selam\"],\n",
        "    \"Debre Sina\" :[\"Debre Birhan\", \"Debre Markos\", \"Kemise\"],\n",
        "    \"Debre Tabor\" :[\"Bahirdar\", \"Lalibela\"],\n",
        "    \"Dega habur\" :[\"Goba\", \"Jigjiga\", \"Kebri Dehar\"],\n",
        "    \"Dembi Dollo\" :[\"Assosa\", \"Gambela\", \"Gimbi\"],\n",
        "    \"Dessie\" :[\"Kemise\", \"Woldia\"],\n",
        "    \"Dilla\" :[\"Bule hora\", \"Hawassa\"],\n",
        "    \"Dire Dawa\" :[\"Chiro\", \"Harar\"],\n",
        "    \"Dodolla\" :[\"Assasa\", \"Bale\", \"Shashemene\"],\n",
        "    \"Dollo\" :[\"Gode\"],\n",
        "    \"Fanti Rasu\" :[\"Kilbet rasu\", \"Samara\"],\n",
        "    \"Finote Selam\" :[\"Bahirdar\", \"Injibara\"],\n",
        "    \"Gabi Rasu\" :[\"Awash\", \"Samara\"],\n",
        "    \"Gambela\" :[\"Dembi Dollo\", \"Gore\"],\n",
        "    \"Gimbi\" :[\"Dembi Dollo\", \"Nekemete\"],\n",
        "    \"Goba\" :[\"Bale\", \"Dega habur\", \"Sof Oumer\"],\n",
        "    \"Gode\" :[\"Kebri Dehar\", \"Dollo\"],\n",
        "    \"Gonder\" :[\"Azezo\", \"Debarke\", \"Humera\", \"Metema\"],\n",
        "    \"Gore\" :[\"Bedelle\", \"Gambela\", \"Tepi\"],\n",
        "    \"Harar\" :[\"Babile\", \"Dire Dawa\"],\n",
        "    \"Hawassa\" :[\"Dilla\", \"Shashemene\"],\n",
        "    \"Hossana\" :[\"Shashemene\", \"Wolita sodo\", \"Worabe\"],\n",
        "    \"Humera\" :[\"Gonder\", \"Shire\"],\n",
        "    \"Injibara\" :[\"Bahirdar\", \"Finote Selam\"],\n",
        "    \"Jigjiga\" :[\"Babile\", \"Dega habur\"],\n",
        "    \"Jimma\" :[\"Bedelle\", \"Bonga\", \"Wolkite\"],\n",
        "    \"Kebri Dehar\" :[\"Dega habur\", \"Sof Oumer\", \"Werder\"],\n",
        "    \"Kemise\" :[\"Debre Sina\", \"Dessie\"],\n",
        "    \"Kilbet rasu\" :[\"Fanti Rasu\"],\n",
        "    \"Konso\" :[\"Arba Minch\", \"Yabello\"],\n",
        "    \"Lalibela\" :[\"Debre Tabor\", \"Sekota\", \"Woldia\"],\n",
        "    \"Liben\" :[\"Bale\"],\n",
        "    \"Matahara\" :[\"Adama\", \"Awash\"],\n",
        "    \"Mekele\" :[\"Adigrate\", \"Adwa\", \"Alamata\", \"Sekota\"],\n",
        "    \"Metekel\" :[\"Assosa\", \"Bahirdar\"],\n",
        "    \"Metema\" :[\"Azezo\", \"Gonder\"],\n",
        "    \"Mezan Teferi\" :[\"Basketo\", \"Bonga\", \"Tepi\"],\n",
        "    \"Moyale\" :[\"Yabello\"],\n",
        "    \"Nekemete\" :[\"Ambo\", \"Bedelle\", \"Gimbi\"],\n",
        "    \"Samara\" :[\"Alamata\", \"Fanti Rasu\", \"Gabi Rasu\", \"Woldia\"],\n",
        "    \"Sekota\" :[\"Alamata\", \"Lalibela\", \"Mekele\"],\n",
        "    \"Shashemene\" :[\"Batu\", \"Dodolla\", \"Hawassa\", \"Hossana\"],\n",
        "    \"Shire\" :[\"Axum\", \"Debarke\", \"Humera\"],\n",
        "    \"Sof Oumer\" :[\"Bale\", \"Goba\", \"Kebri Dehar\"],\n",
        "    \"Tepi\" :[\"Bonga\", \"Gore\", \"Mezan Teferi\"],\n",
        "    \"Werder\" :[\"Kebri Dehar\"],\n",
        "    \"Woldia\" :[\"Alamata\", \"Dessie\", \"Lalibela\", \"Samara\"],\n",
        "    \"Wolita sodo\" :[\"Dawro\", \"Hossana\", \"Arba Minch\"],\n",
        "    \"Wolkite\" :[\"Ambo\", \"Jimma\", \"Worabe\"],\n",
        "    \"Worabe\" :[\"Butajira\", \"Hossana\", \"Wolkite\"],\n",
        "    \"Yabello\" :[\"Bule hora\", \"Konso\", \"Moyale\"]\n",
        "}"
      ]
    },
    {
      "cell_type": "code",
      "source": [
        "heuristic_value = dict(\n",
        "    Adama = 23,\n",
        "    Addis_Abeba  = 26, \n",
        "    Adigrate = 62,\n",
        "    Adwa = 65,\n",
        "    Alamata = 53,\n",
        "    Ambo = 31,\n",
        "    Arba_Minch = 13,\n",
        "    Assasa = 18,\n",
        "    Assella = 22,\n",
        "    Assosa = 51,\n",
        "    Awash = 27,\n",
        "    Axum = 66,\n",
        "    Azezo = 55,\n",
        "    Babile = 37,\n",
        "    Bahirdar = 48,\n",
        "    Basketo = 23,\n",
        "    Bale = 25,\n",
        "    Batu = 19,\n",
        "    Bedelle = 40,\n",
        "    Benchi_Maji = 28,\n",
        "    Bonga = 33,\n",
        "    Bule_hora = 8,\n",
        "    Butajira = 21,\n",
        "    Chiro = 31,\n",
        "    Dawro = 23,\n",
        "    Debarke = 60,\n",
        "    Debre_Birhan = 31,\n",
        "    Debre_Markos = 39,\n",
        "    Debre_Sina = 33,\n",
        "    Debre_Tabor = 52,\n",
        "    Dega_habur = 45,\n",
        "    Dembi_Dollo = 49,\n",
        "    Dessie = 44,\n",
        "    Dilla = 12,\n",
        "    Dire_Dawa =31 ,\n",
        "    Dodolla = 19,\n",
        "    Dollo = 18,\n",
        "    Fanti_Rasu = 49,\n",
        "    Finote_Selam = 42,\n",
        "    Gabi_Rasu = 32,\n",
        "    Gambela = 51,\n",
        "    Gimbi = 43,\n",
        "    Goba = 40,\n",
        "    Gode = 35,\n",
        "    Gonder = 56,\n",
        "    Gore = 56,\n",
        "    Harar = 65,\n",
        "    Hawassa = 15,\n",
        "    Hossana = 21,\n",
        "    Humera = 65,\n",
        "    Injibara = 44,\n",
        "    Jigjiga = 40,\n",
        "    Jimma = 33,\n",
        "    Kebri_Dehar = 40,\n",
        "    Kemise = 40,\n",
        "    Kilbet_rasu = 55,\n",
        "    Konso = 9,\n",
        "    Lalibela = 54,\n",
        "    Liben = 11,\n",
        "    Matahara = 26,\n",
        "    Mekele = 58,\n",
        "    Metema = 62,\n",
        "    Mezan_Teferi = 37,\n",
        "    Moyale = 0,\n",
        "    Nekemete = 39,\n",
        "    Robe = 22,\n",
        "    Samara = 42,\n",
        "    Sekota = 59,\n",
        "    Shashemene = 16,\n",
        "    Shire = 67,\n",
        "    Sof_Oumer = 45,\n",
        "    Tepi = 41,\n",
        "    Werder = 46,\n",
        "    Woldia = 50,\n",
        "    Wolita_sodo = 17,\n",
        "    Wolkite = 25,\n",
        "    Worabe = 22,\n",
        "    Yabello = 6,\n",
        "\n",
        ")"
      ],
      "metadata": {
        "id": "pIkb_7DtIQfP"
      },
      "execution_count": null,
      "outputs": []
    },
    {
      "cell_type": "code",
      "source": [
        "City_dis_cost = dict(\n",
        "  Adama = dict( Addis_Abeba=3, Assella=4, Batu =4, Matahara=3),\n",
        "  Addis_Abeba  = dict(Adama =3, Ambo =5, Debre_Birhan =5),\n",
        "  Adigrate = dict(Adwa =4, Mekele =4, Asmera =6),\n",
        "  Adwa = dict(Adigrate =4, Axum =1, Mekele =7),\n",
        "  Alamata = dict(Mekele =5, Samara =11, Sekota =6, Woldia =3),\n",
        "  Ambo = dict(Nekemete =9, Wolkite =6),\n",
        "  Arba_Minch = dict(Basketo =10, Konso =4, Wolita_sodo =5),\n",
        "  Assasa = dict(Assella =4, Dodolla =1),\n",
        "  Assella = dict(Adama =4, Assasa =4),\n",
        "  Assosa = dict(Dembi_Dollo =12),\n",
        "  Awash = dict(Chiro =4, Gabi_Rasu =5, Matahara =1),\n",
        "  Axum = dict(Adwa =1, Shire =2),\n",
        "  Azezo = dict(Bahirdar =7, Gonder =1, Metema =7),\n",
        "  Babile = dict(Harar =2, Jigjiga =3),\n",
        "  Bahirdar = dict(Azezo =7, Debre_tabor =4, Finote_Selam =6, Injibara =4, Metekel =11),\n",
        "  Bale = dict(Dodolla =13, Goba =18, Liben =11, Sof_Oumer =23),\n",
        "  Basketo = dict(Arba_Minch =10, Benchi_Maji =5),\n",
        "  Batu = dict(Adama =4, Butajira =2, Shashemene =3),\n",
        "  Bedelle = dict(Gore =6, Jimma =7, Nekemete =5),\n",
        "  Benchi_Maji = dict(Basketo =5),\n",
        "  Bonga = dict(Dawro =10, Jimma =4, Mezan_Teferi =4, Tepi =8),\n",
        "  Bule_hora = dict(Dilla =4, Yabello =3),\n",
        "  Butajira = dict(Batu =2, Worabe =2),\n",
        "  Chiro = dict(Awash =4, Dire_Dawa =8),\n",
        "  Dawro = dict(Bonga =10, Wolita_sodo =6),\n",
        "  Debarke = dict(Gonder =4, Shire =7),\n",
        "  Debre_Birhan = dict(Addis_Abeba =5, Debre_Sina =2),\n",
        "  Debre_Markos = dict(Debre_Sina =17, Finote_Selam =3),\n",
        "  Debre_Sina = dict(Debre_Birhan =2, Debre_Markos =17, Kemise =6),\n",
        "  Debre_Tabor = dict(Bahirdar =4, Lalibela =8),\n",
        "  Dega_habur = dict(Jigjiga =5, Kebri_Dehar =6),\n",
        "  Dembi_Dollo =dict(Gambela =4, Gimbi =6, Assosa =12),\n",
        "  Dessie =dict(Kemise =4, Woldia =6),\n",
        "  Dilla =dict(Bule_hora =4, Hawassa =3),\n",
        "  Dire_Dawa =dict(Chiro =8, Harar =4),\n",
        "  Dodolla =dict(Assasa =1, Bale =13, Shashemene =3),\n",
        "  Dollo =dict(Gode =17),\n",
        "  Fanti_Rasu =dict(Kilbet_rasu =6, Samara =7),\n",
        "  Finote_Selam =dict(Bahirdar =6, Injibara =2, Debre_Markos =3),\n",
        "  Gabi_Rasu =dict(Awash =5, Samara =9),\n",
        "  Gambela =dict(Dembi_Dollo =4, Gore =5),\n",
        "  Gimbi =dict(Dembi_Dollo =6, Nekemete =4),\n",
        "  Goba =dict(Bale =18, Sof_Oumer =6),\n",
        "  Gode =dict(Kebri_Dehar =5, Dollo =17, Sof_oumer =23),\n",
        "  Gonder =dict(Azezo =1, Debarke =4, Humera =9, Metema =7),\n",
        "  Gore =dict(Bedelle =6, Gambela =5, Tepi =9),\n",
        "  Harar =dict(Babile =2, Dire_Dawa =4),\n",
        "  Hawassa =dict(Dilla =3, Shashemene =1),\n",
        "  Hossana =dict(Shashemene =7, Wolita_sodo =4, Worabe =2),\n",
        "  Humera =dict(Gonder =9, Shire =8),\n",
        "  Injibara =dict(Bahirdar =4, Finote_Selam =2),\n",
        "  Jigjiga =dict(Babile =3, Dega_habur =5),\n",
        "  Jimma =dict(Bedelle =7, Bonga =4, Wolkite =8),\n",
        "  Kebri_Dehar =dict(Dega_habur =6, Werder =6),\n",
        "  Kemise =dict(Debre_Sina =6, Dessie =4),\n",
        "  Kilbet_rasu =dict(Fanti_Rasu =6),\n",
        "  Konso =dict(Arba_Minch =4, Yabello =3),\n",
        "  Lalibela =dict(Debre_tabor =8, Sekota =6, Woldia =7),\n",
        "  Liben =dict(Bale =11),\n",
        "  Matahara =dict(Adama =3, Awash =1),\n",
        "  Mekele =dict(Bahirdar =11),\n",
        "  Metema =dict(Azezo =7, Gonder =7),\n",
        "  Mezan_Teferi =dict(Bonga =4, Tepi =4),\n",
        "  Moyale =dict(Yabello =6),\n",
        "  Nekemete =dict(Ambo =9, Bedelle =5, Gimbi =4),\n",
        "  Samara =dict(Alamata =11, Fanti_Rasu =7, Gabi_Rasu =9, Woldia =8),\n",
        "  Sekota =dict(Alamata =6, Lalibela =6, Mekele =9),\n",
        "  Shashemene =dict(Batu =3, Dodolla =3, Hawassa =1, Hossana =7),\n",
        "  Shire =dict(Axum =2, Debarke =7, Humera =8),\n",
        "  Sof_Oumer =dict(Bale =23, Goba =6, Gode =23),\n",
        "  Tepi =dict(Bonga =8, Gore =9, Mezan_Teferi =4),\n",
        "  Werder =dict(Kebri_Dehar =6),\n",
        "  Woldia =dict(Alamata =3, Dessie =6, Lalibela =7, Samara =8),\n",
        "  Wolita_sodo =dict(Dawro =6, Hossana =4, Arba_Minch =5),\n",
        "  Wolkite =dict(Ambo =6, Jimma =8, Worabe =5),\n",
        "  Worabe =dict(Butajira =2, Hossana =2, Wolkite =5),\n",
        "  Yabello =dict(Bule_hora =3, Konso =3, Moyale =6)\n",
        ")\n",
        "\n"
      ],
      "metadata": {
        "id": "qYIfi7tFIVIb"
      },
      "execution_count": null,
      "outputs": []
    },
    {
      "cell_type": "markdown",
      "source": [
        "1.2 Write a class that takes the converted state space graph, initial state, goal state and a search strategy and return the corresponding solution/path according to the given strategy. Please consider only breadth-first search and depth-first search strategies for this question."
      ],
      "metadata": {
        "id": "5QIE-dVykqkk"
      }
    },
    {
      "cell_type": "code",
      "source": [
        "ethiopia [\"Adama\"] #let me check the dictionary"
      ],
      "metadata": {
        "colab": {
          "base_uri": "https://localhost:8080/"
        },
        "id": "18n_Hlrylzal",
        "outputId": "40472e0e-cfba-4097-a652-15064ccd25ae"
      },
      "execution_count": null,
      "outputs": [
        {
          "output_type": "execute_result",
          "data": {
            "text/plain": [
              "['Addis Abeba', 'Assella', 'Batu', 'Matahara']"
            ]
          },
          "metadata": {},
          "execution_count": 60
        }
      ]
    },
    {
      "cell_type": "code",
      "source": [
        "from collections import deque\n",
        "\n",
        "def breadth_first(start, goal, neighbors):\n",
        "    frontier = deque([start])\n",
        "    previous = {start: None}\n",
        "    while frontier:\n",
        "        first_state = frontier.popleft()\n",
        "        if first_state == goal:\n",
        "            return path(previous, first_state)\n",
        "        for second_state in neighbors[first_state]:\n",
        "            if second_state not in previous:\n",
        "                frontier.append(second_state)\n",
        "                previous[second_state] = first_state\n",
        "                \n",
        "def path(previous, first_state): \n",
        "    return [] if (first_state is None) else path(previous, previous[first_state]) + [first_state]"
      ],
      "metadata": {
        "id": "KbEHJKFhm2nE"
      },
      "execution_count": null,
      "outputs": []
    },
    {
      "cell_type": "code",
      "source": [
        "#lets chesk starting from Adama to Dilla\n",
        "breadth_first('Adama', 'Dilla', ethiopia)"
      ],
      "metadata": {
        "colab": {
          "base_uri": "https://localhost:8080/"
        },
        "id": "ETsu3V3WnqpZ",
        "outputId": "28e189e8-3ad2-499a-8841-2020c165da8b"
      },
      "execution_count": null,
      "outputs": [
        {
          "output_type": "execute_result",
          "data": {
            "text/plain": [
              "['Adama', 'Batu', 'Shashemene', 'Hawassa', 'Dilla']"
            ]
          },
          "metadata": {},
          "execution_count": 62
        }
      ]
    },
    {
      "cell_type": "code",
      "source": [
        "def depth_first(start, goal, ethiopia):\n",
        "    visited = {}\n",
        "    prev = {start:None}\n",
        "    \n",
        "    for i in ethiopia:\n",
        "        visited[i] = False\n",
        "    \n",
        "    queue = []\n",
        "    queue.append(start)\n",
        "    \n",
        "    visited[start] = True\n",
        "    \n",
        "    while queue:\n",
        "        curr = queue.pop()\n",
        "        if curr == goal:\n",
        "            curr_path = path(prev, goal)\n",
        "            return (curr_path)\n",
        "        else:\n",
        "            for i in ethiopia[curr]:\n",
        "                if visited[i] == False:\n",
        "                    queue.append(i)\n",
        "                    visited[i] = True\n",
        "                    prev[i] = curr"
      ],
      "metadata": {
        "id": "m_crQ4PBpMNL"
      },
      "execution_count": null,
      "outputs": []
    },
    {
      "cell_type": "code",
      "source": [
        "print(depth_first(\"Adama\", \"Dilla\", ethiopia))\n"
      ],
      "metadata": {
        "colab": {
          "base_uri": "https://localhost:8080/"
        },
        "id": "CRn1i9y4tEDf",
        "outputId": "2f794479-4e32-4378-d353-7077fbc9c73c"
      },
      "execution_count": null,
      "outputs": [
        {
          "output_type": "stream",
          "name": "stdout",
          "text": [
            "['Adama', 'Matahara', 'Awash', 'Gabi Rasu', 'Samara', 'Woldia', 'Lalibela', 'Sekota', 'Mekele', 'Adwa', 'Axum', 'Shire', 'Humera', 'Gonder', 'Azezo', 'Bahirdar', 'Metekel', 'Assosa', 'Dembi Dollo', 'Gimbi', 'Nekemete', 'Bedelle', 'Jimma', 'Wolkite', 'Worabe', 'Hossana', 'Wolita sodo', 'Arba Minch', 'Konso', 'Yabello', 'Bule hora', 'Dilla']\n"
          ]
        }
      ]
    },
    {
      "cell_type": "markdown",
      "source": [
        "2.1 Convert Figure 2 into some sort of manageable data structure such as, stack or queue."
      ],
      "metadata": {
        "id": "1xUrQ0ngumhg"
      }
    },
    {
      "cell_type": "markdown",
      "source": [
        "2.2 Assuming “Addis Ababa” as an initial state, write a program that use uniform cost search to generate a path to “Lalibela”."
      ],
      "metadata": {
        "id": "LAxs2jUIGpt1"
      }
    },
    {
      "cell_type": "code",
      "source": [
        "class Frontier():\n",
        "    def __init__(self, start, cost = 0):\n",
        "        self.start = start\n",
        "        self.cost = cost\n",
        "        self.states = {start:cost}\n",
        "        self.q = [[cost, start]]\n",
        "    \n",
        "    def add(self,state,cost):\n",
        "        self.states[state]=cost\n",
        "        heapq.heappush(self.q,[cost,state])\n",
        "    \n",
        "    def pop(self):\n",
        "        return heapq.heappop(self.q)\n",
        "    \n",
        "    def replace(self,state,cost):\n",
        "        self.states[state]=cost\n",
        "        for i,tup in enumerate(self.q):\n",
        "            if tup[1]==state:\n",
        "                self.q[i][0]=cost"
      ],
      "metadata": {
        "id": "JQ9fwNeNGzw6"
      },
      "execution_count": null,
      "outputs": []
    },
    {
      "cell_type": "code",
      "source": [
        "\n",
        "def pathcost(path, step_costs):\n",
        "    cost = 0\n",
        "    for s in range(len(path)-1):\n",
        "        cost += step_costs[path[s]][path[s+1]]\n",
        "    return cost"
      ],
      "metadata": {
        "id": "kS4WtVmfIcBY"
      },
      "execution_count": null,
      "outputs": []
    },
    {
      "cell_type": "code",
      "source": [
        "def uniform_cost(start, goal, state_graph, return_cost):\n",
        "    frontier = Frontier(start)\n",
        "    visited = set()\n",
        "    prev = {start:None}\n",
        "   \n",
        "    while frontier.q:\n",
        "        cost, curr = frontier.pop()\n",
        "        if curr == goal:\n",
        "            p = path(prev, curr)\n",
        "            return (p, pathcost(p, state_graph)) if return_cost else p\n",
        "        visited.add(curr)\n",
        "       \n",
        "        for adj in state_graph[curr]:\n",
        "            if adj not in visited:\n",
        "                if adj not in frontier.states:\n",
        "                    prev[adj]=curr\n",
        "                    frontier.add(adj,cost+state_graph[curr][adj])\n",
        "                elif frontier.states[adj] > cost+state_graph[curr][adj]:\n",
        "                    prev[adj]=curr\n",
        "                    frontier.replace(adj,cost+state_graph[curr][adj])"
      ],
      "metadata": {
        "id": "mv0-zlW4H12D"
      },
      "execution_count": null,
      "outputs": []
    },
    {
      "cell_type": "code",
      "source": [
        "print(uniform_cost(\"Addis_Abeba\", \"Lalibela\", City_dis_cost, True))"
      ],
      "metadata": {
        "colab": {
          "base_uri": "https://localhost:8080/"
        },
        "id": "y3-hTSAqIph_",
        "outputId": "89635fd5-94b3-4840-e69b-e9e4e8a1b14b"
      },
      "execution_count": null,
      "outputs": [
        {
          "output_type": "stream",
          "name": "stdout",
          "text": [
            "(['Addis_Abeba', 'Debre_Birhan', 'Debre_Sina', 'Kemise', 'Dessie', 'Woldia', 'Lalibela'], 30)\n"
          ]
        }
      ]
    },
    {
      "cell_type": "markdown",
      "source": [
        "2.3 Given “Addis Ababa” as an initial state and “Axum”, “Gondar”, “Lalibela”, Babile, “Jimma”, “Bale”, “Sof Oumer”, and “Arba Minch” as goal states;in no specific order, write a customized uniform cost search algorithm to generate a path that let a visitor visit all those goal states preserving the local optimum."
      ],
      "metadata": {
        "id": "IvcQrZj4ko-i"
      }
    },
    {
      "cell_type": "code",
      "source": [
        "# Define the goal states\n",
        "goal_states = {'Axum', 'Gondar', 'Lalibela', 'Babile', 'Jimma', 'Bale', 'Sof Oumer', 'Arba Minch'}\n",
        "\n",
        "# Define the Uniform Cost Search function\n",
        "def uniform_cost_search(graph, start, goals):\n",
        "    # Initialize the priority queue with the start node and its cost\n",
        "    frontier = [(0, start, [])]\n",
        "    # Initialize the visited set\n",
        "    visited = set()\n",
        "    # Loop until the priority queue is empty\n",
        "    while frontier:\n",
        "        # Get the node with the lowest cost\n",
        "        cost, node, path = heapq.heappop(frontier)\n",
        "        # If the node is a goal state, return the path and the cost\n",
        "        if node in goals:\n",
        "            return path + [node], cost\n",
        "        # If the node has not been visited yet, mark it as visited and add its neighbors to the priority queue\n",
        "        if node not in visited:\n",
        "            visited.add(node)\n",
        "            for neighbor, neighbor_cost in graph[node].items():\n",
        "                heapq.heappush(frontier, (cost + neighbor_cost, neighbor, path + [node]))\n",
        "    # If no path was found, return None\n",
        "    return None\n",
        "\n",
        "# Call the Uniform Cost Search function with the graph, start state, and goal states\n",
        "path, cost = uniform_cost_search(City_dis_cost, \"Addis_Abeba\", goal_states)\n",
        "\n",
        "# Print the result\n",
        "if path:\n",
        "    print(\"Path: \", path)\n",
        "    print(\"Cost: \", cost)\n",
        "else:\n",
        "    print(\"No path found\")"
      ],
      "metadata": {
        "colab": {
          "base_uri": "https://localhost:8080/"
        },
        "id": "udaXYUYKkv7B",
        "outputId": "e50c75cb-6dd5-4e36-c185-377aa8ea6475"
      },
      "execution_count": null,
      "outputs": [
        {
          "output_type": "stream",
          "name": "stdout",
          "text": [
            "Path:  ['Addis_Abeba', 'Ambo', 'Wolkite', 'Jimma']\n",
            "Cost:  19\n"
          ]
        }
      ]
    },
    {
      "cell_type": "markdown",
      "source": [
        "3. Given Figure 3, a state space graph with heuristic and backward cost. Write a class that use A* search to generate a path from the initial state “Addis Ababa” to goal state “Moyale”."
      ],
      "metadata": {
        "id": "HIG46AiYI5SE"
      }
    },
    {
      "cell_type": "code",
      "source": [
        "# Your code here.\n",
        "def heuristic_sld_providence(state):\n",
        "    return heuristic_value[state]"
      ],
      "metadata": {
        "id": "4S5QcIqQBiEy"
      },
      "execution_count": null,
      "outputs": []
    },
    {
      "cell_type": "code",
      "source": [
        "print(heuristic_sld_providence(\"Woldia\"))"
      ],
      "metadata": {
        "colab": {
          "base_uri": "https://localhost:8080/"
        },
        "id": "7pb4teGFBqWn",
        "outputId": "eebe3429-bc99-432f-9561-3bb6e90e1ac5"
      },
      "execution_count": null,
      "outputs": [
        {
          "output_type": "stream",
          "name": "stdout",
          "text": [
            "50\n"
          ]
        }
      ]
    },
    {
      "cell_type": "code",
      "source": [
        "# Your code here.\n",
        "def astar_search(start, goal, state_graph, heuristic, return_cost, return_nexp):\n",
        "    frontier = Frontier(start)\n",
        "    visited = set()\n",
        "    prev = {start:None}\n",
        "   \n",
        "    while frontier.q:\n",
        "        cost, curr = frontier.pop()\n",
        "        visited.add(curr)\n",
        "        if curr == goal:\n",
        "            p = path\n",
        "            if return_nexp == False:\n",
        "                return (p, pathcost(p, state_graph)) if return_cost else p\n",
        "            else:\n",
        "                return (p, pathcost(p, state_graph), len(visited)) if return_cost else (p,len(visited))\n",
        "       \n",
        "        for adj in state_graph[curr]:\n",
        "            if adj not in visited:\n",
        "                new_cost = cost + state_graph[curr][adj] + heuristic(adj) - heuristic(curr)\n",
        "                if adj not in frontier.states:\n",
        "                    prev[adj] = curr\n",
        "                    frontier.add(adj, new_cost)\n",
        "                elif frontier.states[adj] > new_cost:\n",
        "                    prev[adj] = curr\n",
        "                    frontier.replace(adj, new_cost)"
      ],
      "metadata": {
        "id": "L8jX3PzJSW_a"
      },
      "execution_count": null,
      "outputs": []
    },
    {
      "cell_type": "code",
      "source": [
        "ret = astar_search(\"Addis_Abeba\", \"Woldia\", City_dis_cost, heuristic_sld_providence, True, True)\n",
        "print(\"optimal path using A*:\", ret[0])"
      ],
      "metadata": {
        "colab": {
          "base_uri": "https://localhost:8080/"
        },
        "id": "NqC7yu1vnCpl",
        "outputId": "59b437e2-16c3-4f6f-9e71-969b34fa49ac"
      },
      "execution_count": null,
      "outputs": [
        {
          "output_type": "stream",
          "name": "stdout",
          "text": [
            "optimal path using A*: ['Addis_Abeba', 'Ambo', 'Wolkite', 'Jimma']\n"
          ]
        }
      ]
    },
    {
      "cell_type": "markdown",
      "source": [
        "4. Assume an adversary joins the Traveling Ethiopia Search Problem as shown in Figure 4. The goal of the agent would be to reach to a state where it gains good quality of Coffee. Write a class that shows how MiniMax search algorithm directs an agent to the best achievable destination."
      ],
      "metadata": {
        "id": "h9g6pN194Tha"
      }
    },
    {
      "cell_type": "code",
      "source": [
        "locations_of_Coffe={\n",
        "\"Addis Ababa\": {\"Ambo\",\"Buta Jirra\", \"Adama\"},\n",
        "\"Ambo\":{\"Gedo\", \"Nekemte\"},\n",
        "\"Buta Jirra\":{\"Worabe\", \"Wolkite\"},\n",
        "\"Adama\":{\"Dire Dawa\", \"Mojo\"},\n",
        "\"Gedo\":{\"Shambu\",\"Fincha\"},\n",
        "\"Nekemte\":{\"Gimbi\", \"Limu\"},\n",
        "\"Worabe\":{\"Hosana\",\"Durame\"},\n",
        "\"Wolkite\":{\"Benchi Naji\",\"Tepi\"},\n",
        "\"Mojo\":{\"Dilla\",\"Kaffa\"},\n",
        "\"Dire Dawa\":{\"Chiro\",\"Harar\"}\n",
        "}\n",
        "\n",
        "utilities=[\"Shambu\",\"Fincha\",\"Gimbi\",\"Limu\",\"Hosana\",\"Durame\",\"Benchi Naji\",\"Tepi\",\"Kaffa\",\"Dilla\",\"Chiro\",\"Harar\"]\n",
        "terminals = [4,5,8,8,6,5,5,6,7,9,6,10]\n",
        "terminals_1 = []\n",
        "choosen_cities =[]\n",
        "is_max = True\n",
        "for i in range(0,len(terminals),2): \n",
        "    if is_max:\n",
        "        if terminals[i] > terminals[i+1]: \n",
        "            choosen_cities.append(utilities[i])\n",
        "        else: \n",
        "            choosen_cities.append(utilities[i+1])\n",
        "        terminals_1.append(max(terminals[i],terminals[i+1]))\n",
        "\n",
        "\n",
        "graph = {\n",
        "    \"Fincha\" : \"Gedo\", \n",
        "    \"Limu\" : \"Nekemte\", \n",
        "    \"Hosana\" : \"Worabe\", \n",
        "    \"Tepi\" : \"Wolkite\", \n",
        "    \"Dilla\" : \"Mojo\",\n",
        "    \"Harar\":  \"Dire Dawa\"\n",
        "}\n",
        "is_max = False\n",
        "choosen_cities_2 = [] \n",
        "terminals_2 = []\n",
        "\n",
        "for i in range(0,len(terminals_1),2): \n",
        "    if not is_max:\n",
        "        if terminals_1[i] > terminals_1[i+1]: \n",
        "            choosen_cities_2.append(graph[choosen_cities[i+1]])\n",
        "        else: \n",
        "            choosen_cities_2.append(graph[choosen_cities[i]])\n",
        "        terminals_2.append(min(terminals_1[i],terminals_1[i+1]))\n",
        "\n",
        "graph_1={\n",
        "\"Gedo\" : \"Ambo\",\n",
        "\"Worabe\": \"Buta Jirra\",\n",
        "\"Mojo\" : \"Adama\"}\n",
        "\n",
        "\n",
        "max_city_ind = 0\n",
        "if terminals_2[1] > terminals_2[max_city_ind]:\n",
        "    max_city_ind = 1 \n",
        "if terminals_2[2] > terminals_2[max_city_ind]:\n",
        "    max_city_ind = 2\n",
        "\n",
        "second_city = choosen_cities_2[max_city_ind]\n",
        "first_choosen_city = graph_1[second_city]\n",
        "print(first_choosen_city)\n",
        "print(second_city)\n",
        "third_city_options = locations_of_Coffe[second_city]\n",
        "third_city = None\n",
        "for c in third_city_options: \n",
        "    if c in graph:\n",
        "        third_city = c \n",
        "print(third_city)"
      ],
      "metadata": {
        "colab": {
          "base_uri": "https://localhost:8080/"
        },
        "id": "QNVzglPnk3a8",
        "outputId": "57c386c8-2071-4cee-8e47-60274d64f52d"
      },
      "execution_count": null,
      "outputs": [
        {
          "output_type": "stream",
          "name": "stdout",
          "text": [
            "Adama\n",
            "Mojo\n",
            "Dilla\n"
          ]
        }
      ]
    }
  ]
}